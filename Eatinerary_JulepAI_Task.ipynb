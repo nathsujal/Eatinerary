{
  "cells": [
    {
      "cell_type": "code",
      "execution_count": null,
      "id": "20f10b8c-27df-4304-b43e-197db1baf3eb",
      "metadata": {
        "id": "20f10b8c-27df-4304-b43e-197db1baf3eb"
      },
      "outputs": [],
      "source": [
        "!pip install julep -U --quiet"
      ]
    },
    {
      "cell_type": "code",
      "execution_count": null,
      "id": "11ddd906-6509-482c-8ccb-a1a1508e137c",
      "metadata": {
        "id": "11ddd906-6509-482c-8ccb-a1a1508e137c"
      },
      "outputs": [],
      "source": [
        "import uuid\n",
        "import os\n",
        "import yaml\n",
        "from julep import Client\n",
        "from google.colab import userdata"
      ]
    },
    {
      "cell_type": "code",
      "execution_count": null,
      "id": "6631747c-cae9-4f85-9e47-cc3acc8ca051",
      "metadata": {
        "id": "6631747c-cae9-4f85-9e47-cc3acc8ca051"
      },
      "outputs": [],
      "source": [
        "JULEP_API_KEY = userdata.get(\"JULEP_API_KEY\")\n",
        "BRAVE_KEY = userdata.get(\"BRAVE_API_KEY\")\n",
        "OPENWEATHERMAP_API_KEY = userdata.get(\"OPENWEATHER_API_KEY\")"
      ]
    },
    {
      "cell_type": "code",
      "execution_count": null,
      "id": "0305c4bd-97fa-42b9-94c1-0673a5d02b85",
      "metadata": {
        "id": "0305c4bd-97fa-42b9-94c1-0673a5d02b85"
      },
      "outputs": [],
      "source": [
        "AGENT_ID = uuid.uuid4()\n",
        "TASK_ID = uuid.uuid4()"
      ]
    },
    {
      "cell_type": "markdown",
      "id": "9cad6a8b-7265-4849-94c5-4bb9c94da513",
      "metadata": {
        "id": "9cad6a8b-7265-4849-94c5-4bb9c94da513"
      },
      "source": [
        "#### Creating Julep Client"
      ]
    },
    {
      "cell_type": "code",
      "execution_count": null,
      "id": "0a30a1c2-cbc5-4710-acf6-172419a6f6b6",
      "metadata": {
        "id": "0a30a1c2-cbc5-4710-acf6-172419a6f6b6"
      },
      "outputs": [],
      "source": [
        "client = Julep(\n",
        "    api_key=JULEP_API_KEY\n",
        ")"
      ]
    },
    {
      "cell_type": "markdown",
      "id": "42c6c434-68f0-4dba-8b57-19930f7faec9",
      "metadata": {
        "id": "42c6c434-68f0-4dba-8b57-19930f7faec9"
      },
      "source": [
        "#### Creating an agent"
      ]
    },
    {
      "cell_type": "code",
      "execution_count": null,
      "id": "7940c5b6-dc54-4cfb-a463-ad39c77d2a3e",
      "metadata": {
        "id": "7940c5b6-dc54-4cfb-a463-ad39c77d2a3e"
      },
      "outputs": [],
      "source": [
        "agent = client.agents.create_or_update(\n",
        "    agent_id = AGENT_ID,\n",
        "    name = \"Zesta\",\n",
        "    about = \"A culinary travel guide that crafts delightful one-day foodie itineraries—curating breakfast, lunch, and dinner experiences based on local weather and vibes. Perfect for food lovers seeking comfort and flavor, rain or shine.\",\n",
        "    model = \"gpt-4o\",\n",
        ")"
      ]
    },
    {
      "cell_type": "markdown",
      "source": [
        "#### Defining a task"
      ],
      "metadata": {
        "id": "mam6ukSyq_9E"
      },
      "id": "mam6ukSyq_9E"
    },
    {
      "cell_type": "code",
      "source": [
        "# Defining the foodie tour task\n",
        "task_def = yaml.safe_load(f\"\"\"\n",
        "# yaml-language-server: $schema=https://raw.githubusercontent.com/julep-ai/julep/refs/heads/dev/schemas/create_task_request.json\n",
        "name: Julep One-Day Foodie Tour Planner\n",
        "description: A task that creates a delightful one-day foodie tour with breakfast, lunch, and dinner recommendations based on weather conditions and local iconic dishes.\n",
        "\n",
        "########################################################\n",
        "####################### INPUT SCHEMA ##################\n",
        "########################################################\n",
        "input_schema:\n",
        "  type: object\n",
        "  properties:\n",
        "    city:\n",
        "      type: string\n",
        "      description: The city to create a foodie tour for.\n",
        "    date:\n",
        "      type: string\n",
        "      description: The date for the foodie tour (optional, defaults to today).\n",
        "\n",
        "########################################################\n",
        "####################### TOOLS ##########################\n",
        "########################################################\n",
        "\n",
        "# Define the tools that the task will use in this workflow\n",
        "tools:\n",
        "- name: wikipedia\n",
        "  type: integration\n",
        "  integration:\n",
        "    provider: wikipedia\n",
        "\n",
        "- name: weather\n",
        "  type: integration\n",
        "  integration:\n",
        "    provider: weather\n",
        "    setup:\n",
        "      openweathermap_api_key: {OPENWEATHERMAP_API_KEY}\n",
        "\n",
        "- name: internet_search\n",
        "  type: integration\n",
        "  integration:\n",
        "    provider: brave\n",
        "    setup:\n",
        "      brave_api_key: {BRAVE_KEY}\n",
        "\n",
        "########################################################\n",
        "####################### MAIN WORKFLOW ##########################\n",
        "########################################################\n",
        "\n",
        "main:\n",
        "# Step 0: Fetch today's weather for the location\n",
        "- over: $ steps[0].input.location\n",
        "  map:\n",
        "    tool: weather\n",
        "    arguments:\n",
        "      location: $ _\n",
        "\n",
        "# Step 1: Search Wikipedia for iconic local dishes of the location\n",
        "- over: $ steps[0].input.location\n",
        "  map:\n",
        "    tool: internet_search\n",
        "    arguments:\n",
        "      query: $ 'iconic local dishes of ' + _\n",
        "\n",
        "# Step 2: Zip locations, weather, and iconic_local_dishes into a list of tuples [(locationn, weather, iconic_local_dishes)]\n",
        "- evaluate:\n",
        "    zipped: |-\n",
        "      $ list(\n",
        "        zip(\n",
        "          steps[0].input.locations,\n",
        "          [output['result'] for output in steps[0].output],\n",
        "          steps[1].output\n",
        "        )\n",
        "      )\n",
        "\n",
        "# Step 3: Search for top-rated restaurants serving each of the 3 iconic dishes\n",
        "- over: $ _['zipped']\n",
        "  parallelism: 3\n",
        "  map:\n",
        "    tool: internet_search\n",
        "    arguments:\n",
        "      query: >-\n",
        "        $ f'best restaurants in ' + {{_[0]}} + ' serving ' + {{_}}\n",
        "\n",
        "# Step 4: Zip locations, weather, iconic_local_dishes, and restaurant_search_results into a list of tuples [(locationn, weather, iconic_local_dishes, restaurant_search_results)]\n",
        "- evaluate:\n",
        "    zipped: |-\n",
        "      $ list(\n",
        "        zip(\n",
        "          steps[0].input.locations,\n",
        "          [output['result'] for output in steps[0].output],\n",
        "          steps[1].output,\n",
        "          steps[3].output\n",
        "        )\n",
        "      )\n",
        "\n",
        "# Step 4: Create the final foodie tour itinerary\n",
        "- over: $ _['zipped']\n",
        "  parallelism: 3\n",
        "  map:\n",
        "    prompt:\n",
        "    - role: system\n",
        "      content: >-\n",
        "        $ f'''You are {{agent.name}}, a delightful food tour guide and storyteller.\n",
        "        Your task is to create an enchanting one-day foodie tour for {{steps[0].input.city}}.\n",
        "\n",
        "        You have the following information:\n",
        "        - The location\n",
        "        - Current weather conditions\n",
        "        - 3 iconic local dishes\n",
        "        - Top-rated restaurants for each dish\n",
        "\n",
        "        Create a narrative foodie tour with:\n",
        "        - Breakfast recommendation (featuring one iconic dish)\n",
        "        - Lunch recommendation (featuring another iconic dish)\n",
        "        - Dinner recommendation (featuring the third iconic dish)\n",
        "\n",
        "        For each meal:\n",
        "        - Consider the weather for indoor/outdoor dining suggestions\n",
        "        - Include restaurant recommendations with brief descriptions\n",
        "        - Add storytelling elements about the dish's cultural significance\n",
        "        - Provide timing suggestions\n",
        "        - Include walking/transport tips between locations\n",
        "\n",
        "        Write in an engaging, narrative style that makes the reader excited about the food adventure.'''\n",
        "    - role: user\n",
        "      content: >-\n",
        "        $ f'''City: {{_[0]}}\n",
        "        Weather: \"{{_[1]}}\"\n",
        "\n",
        "        Iconic Dishes:\n",
        "        {{_[2]}}\n",
        "\n",
        "        Restaurant Search Results:\n",
        "        {{_[3]}}\n",
        "        respectively for the iconic dishes\n",
        "\n",
        "        Please create a delightful one-day foodie tour itinerary.'''\n",
        "    unwrap: true\n",
        "\n",
        "# Step 6: Format the final output\n",
        "- evaluate:\n",
        "    final_plan: |-\n",
        "        $ '\\\\n---------------------------\\\\n'.join(activity for activity in _)\n",
        "  \"\"\")"
      ],
      "metadata": {
        "id": "FvFgo5gN8g6z"
      },
      "id": "FvFgo5gN8g6z",
      "execution_count": null,
      "outputs": []
    },
    {
      "cell_type": "markdown",
      "id": "23f76fed-46df-4457-b92a-dbead1ca7916",
      "metadata": {
        "id": "23f76fed-46df-4457-b92a-dbead1ca7916"
      },
      "source": [
        "#### Creating the task object"
      ]
    },
    {
      "cell_type": "code",
      "execution_count": null,
      "id": "013fc364-be80-4495-ac47-b3853920a0b2",
      "metadata": {
        "id": "013fc364-be80-4495-ac47-b3853920a0b2"
      },
      "outputs": [],
      "source": [
        "task = client.tasks.create_or_update(\n",
        "    task_id = TASK_ID,\n",
        "    agent_id = AGENT_ID,\n",
        "    **task_def\n",
        ")"
      ]
    },
    {
      "cell_type": "markdown",
      "id": "078c1793-ce79-4563-8268-23ad766dbbe7",
      "metadata": {
        "id": "078c1793-ce79-4563-8268-23ad766dbbe7"
      },
      "source": [
        "#### Creating an Execution"
      ]
    },
    {
      "cell_type": "code",
      "execution_count": null,
      "id": "d85d476c-81af-47df-b2c7-747cd4b56b43",
      "metadata": {
        "id": "d85d476c-81af-47df-b2c7-747cd4b56b43"
      },
      "outputs": [],
      "source": [
        "execution = client.executions.create(\n",
        "    task_id = TASK_ID,\n",
        "    input = {\n",
        "        \"locations\": [\"Berlin\", \"London\", \"New York\", \"Paris\"]\n",
        "    }\n",
        ")\n",
        "print(f\"Started an execution. Execution ID: {execution.id}\")"
      ]
    },
    {
      "cell_type": "code",
      "execution_count": null,
      "id": "4d1e69d6-fc25-4da2-8cb0-a0b0527885c6",
      "metadata": {
        "id": "4d1e69d6-fc25-4da2-8cb0-a0b0527885c6"
      },
      "outputs": [],
      "source": [
        "import time\n",
        "\n",
        "execution = client.executions.get(execution.id)\n",
        "\n",
        "while execution.status != \"succeeded\":\n",
        "    time.sleep(5)\n",
        "    execution = client.executions.get(execution.id)\n",
        "    print(\"Execution status: \", execution.status)\n",
        "    print(\"-\"*50)\n",
        "\n",
        "execution = client.executions.get(execution.id)\n",
        "\n",
        "if 'final_plan' in execution.output:\n",
        "    print(execution.output['final_plan'])\n",
        "else:\n",
        "    print(execution.output)"
      ]
    }
  ],
  "metadata": {
    "kernelspec": {
      "display_name": "Python 3 (ipykernel)",
      "language": "python",
      "name": "python3"
    },
    "language_info": {
      "codemirror_mode": {
        "name": "ipython",
        "version": 3
      },
      "file_extension": ".py",
      "mimetype": "text/x-python",
      "name": "python",
      "nbconvert_exporter": "python",
      "pygments_lexer": "ipython3",
      "version": "3.12.3"
    },
    "colab": {
      "provenance": []
    }
  },
  "nbformat": 4,
  "nbformat_minor": 5
}